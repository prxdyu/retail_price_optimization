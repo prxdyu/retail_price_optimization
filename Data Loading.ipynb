{
 "cells": [
  {
   "cell_type": "code",
   "execution_count": 1,
   "id": "472c7f1f-9e58-4b5b-ad8b-aabdebdb2732",
   "metadata": {},
   "outputs": [],
   "source": [
    "# importing the required libraries\n",
    "import pandas as pd\n",
    "import numpy as np\n",
    "import seaborn as sns\n",
    "import matplotlib.pyplot as plt\n",
    "\n",
    "# turning off warnings\n",
    "import warnings\n",
    "warnings.filterwarnings(\"ignore\")"
   ]
  },
  {
   "cell_type": "code",
   "execution_count": 2,
   "id": "78d5abc5-b233-45da-ae76-9b78a462443b",
   "metadata": {},
   "outputs": [],
   "source": [
    "# loading the data\n",
    "dates = pd.read_csv(\"data/Dates.csv\")\n",
    "products = pd.read_csv(\"data/Metadata.csv\")\n",
    "transactions = pd.read_csv(\"data/Transactions.csv\")"
   ]
  },
  {
   "cell_type": "markdown",
   "id": "9f44de3a-c88a-480b-afd1-39c42916da49",
   "metadata": {},
   "source": [
    "### Product Data"
   ]
  },
  {
   "cell_type": "markdown",
   "id": "630ce4f7-fe5e-4d9d-9c7e-611896a55c32",
   "metadata": {},
   "source": [
    "- SELL_ID: Unique ID of the basket/cart\n",
    "- SELL_CATEGORY: 0 if the product is sold alone 2 if the product is sold with some other products\n",
    "- ITEM_ID: Unique ID for the product\n",
    "- ITEM_NAME: Name of the product"
   ]
  },
  {
   "cell_type": "code",
   "execution_count": 7,
   "id": "f6995537-a780-4bf5-b798-ed2a0b780d04",
   "metadata": {},
   "outputs": [
    {
     "data": {
      "text/html": [
       "<div>\n",
       "<style scoped>\n",
       "    .dataframe tbody tr th:only-of-type {\n",
       "        vertical-align: middle;\n",
       "    }\n",
       "\n",
       "    .dataframe tbody tr th {\n",
       "        vertical-align: top;\n",
       "    }\n",
       "\n",
       "    .dataframe thead th {\n",
       "        text-align: right;\n",
       "    }\n",
       "</style>\n",
       "<table border=\"1\" class=\"dataframe\">\n",
       "  <thead>\n",
       "    <tr style=\"text-align: right;\">\n",
       "      <th></th>\n",
       "      <th>SELL_ID</th>\n",
       "      <th>SELL_CATEGORY</th>\n",
       "      <th>ITEM_ID</th>\n",
       "      <th>ITEM_NAME</th>\n",
       "    </tr>\n",
       "  </thead>\n",
       "  <tbody>\n",
       "    <tr>\n",
       "      <th>0</th>\n",
       "      <td>1070</td>\n",
       "      <td>0</td>\n",
       "      <td>7821</td>\n",
       "      <td>BURGER</td>\n",
       "    </tr>\n",
       "    <tr>\n",
       "      <th>1</th>\n",
       "      <td>3055</td>\n",
       "      <td>0</td>\n",
       "      <td>3052</td>\n",
       "      <td>COFFEE</td>\n",
       "    </tr>\n",
       "    <tr>\n",
       "      <th>2</th>\n",
       "      <td>3067</td>\n",
       "      <td>0</td>\n",
       "      <td>5030</td>\n",
       "      <td>COKE</td>\n",
       "    </tr>\n",
       "    <tr>\n",
       "      <th>3</th>\n",
       "      <td>3028</td>\n",
       "      <td>0</td>\n",
       "      <td>6249</td>\n",
       "      <td>LEMONADE</td>\n",
       "    </tr>\n",
       "    <tr>\n",
       "      <th>4</th>\n",
       "      <td>2051</td>\n",
       "      <td>2</td>\n",
       "      <td>7821</td>\n",
       "      <td>BURGER</td>\n",
       "    </tr>\n",
       "  </tbody>\n",
       "</table>\n",
       "</div>"
      ],
      "text/plain": [
       "   SELL_ID  SELL_CATEGORY  ITEM_ID ITEM_NAME\n",
       "0     1070              0     7821    BURGER\n",
       "1     3055              0     3052    COFFEE\n",
       "2     3067              0     5030      COKE\n",
       "3     3028              0     6249  LEMONADE\n",
       "4     2051              2     7821    BURGER"
      ]
     },
     "execution_count": 7,
     "metadata": {},
     "output_type": "execute_result"
    }
   ],
   "source": [
    "product.head()"
   ]
  },
  {
   "cell_type": "code",
   "execution_count": 17,
   "id": "b749f841-4eab-49c2-9966-ec41ee214409",
   "metadata": {},
   "outputs": [
    {
     "data": {
      "text/html": [
       "<div>\n",
       "<style scoped>\n",
       "    .dataframe tbody tr th:only-of-type {\n",
       "        vertical-align: middle;\n",
       "    }\n",
       "\n",
       "    .dataframe tbody tr th {\n",
       "        vertical-align: top;\n",
       "    }\n",
       "\n",
       "    .dataframe thead th {\n",
       "        text-align: right;\n",
       "    }\n",
       "</style>\n",
       "<table border=\"1\" class=\"dataframe\">\n",
       "  <thead>\n",
       "    <tr style=\"text-align: right;\">\n",
       "      <th></th>\n",
       "      <th>ITEM_NAME</th>\n",
       "    </tr>\n",
       "  </thead>\n",
       "  <tbody>\n",
       "    <tr>\n",
       "      <th>count</th>\n",
       "      <td>11</td>\n",
       "    </tr>\n",
       "    <tr>\n",
       "      <th>unique</th>\n",
       "      <td>4</td>\n",
       "    </tr>\n",
       "    <tr>\n",
       "      <th>top</th>\n",
       "      <td>BURGER</td>\n",
       "    </tr>\n",
       "    <tr>\n",
       "      <th>freq</th>\n",
       "      <td>4</td>\n",
       "    </tr>\n",
       "  </tbody>\n",
       "</table>\n",
       "</div>"
      ],
      "text/plain": [
       "       ITEM_NAME\n",
       "count         11\n",
       "unique         4\n",
       "top       BURGER\n",
       "freq           4"
      ]
     },
     "execution_count": 17,
     "metadata": {},
     "output_type": "execute_result"
    }
   ],
   "source": [
    "product.describe(include=[\"O\"])"
   ]
  },
  {
   "cell_type": "code",
   "execution_count": 5,
   "id": "fc2f0452-2301-4701-9368-9e94b2c11cda",
   "metadata": {},
   "outputs": [
    {
     "name": "stdout",
     "output_type": "stream",
     "text": [
      "The total no of unique products is 4\n",
      "The shape of products data is (11, 4)\n"
     ]
    }
   ],
   "source": [
    "# checking unique no of products\n",
    "print(f\"The total no of unique products is {products['ITEM_ID'].nunique()}\")\n",
    "print(f\"The shape of products data is {products.shape}\")"
   ]
  },
  {
   "cell_type": "code",
   "execution_count": 37,
   "id": "52e24a84-e60b-402a-875c-14d375c1fc87",
   "metadata": {},
   "outputs": [
    {
     "data": {
      "text/plain": [
       "SELL_ID          0\n",
       "SELL_CATEGORY    0\n",
       "ITEM_ID          0\n",
       "ITEM_NAME        0\n",
       "dtype: int64"
      ]
     },
     "execution_count": 37,
     "metadata": {},
     "output_type": "execute_result"
    }
   ],
   "source": [
    "# checking for null values\n",
    "product.isna().sum()"
   ]
  },
  {
   "cell_type": "markdown",
   "id": "a9795ad4-42f0-4cdc-aedf-8bb34bfe8ebd",
   "metadata": {},
   "source": [
    "### Transaction Data"
   ]
  },
  {
   "cell_type": "markdown",
   "id": "eff25259-62ed-4e95-9c5f-c36bfdfea6e2",
   "metadata": {},
   "source": [
    "- CALENDAR_DATE: Date of transaction\n",
    "- PRICE: Price of the product\n",
    "- QUANTITY: Quantity of the product\n",
    "- SELL_ID: Unique ID of the basket/cart\n",
    "- SELL_CATEGORY: 0 if the product is sold alone 2 if the product is sold with some other products"
   ]
  },
  {
   "cell_type": "code",
   "execution_count": 8,
   "id": "b0a61780-97a8-4118-9081-eae8ba8a88b6",
   "metadata": {},
   "outputs": [
    {
     "data": {
      "text/html": [
       "<div>\n",
       "<style scoped>\n",
       "    .dataframe tbody tr th:only-of-type {\n",
       "        vertical-align: middle;\n",
       "    }\n",
       "\n",
       "    .dataframe tbody tr th {\n",
       "        vertical-align: top;\n",
       "    }\n",
       "\n",
       "    .dataframe thead th {\n",
       "        text-align: right;\n",
       "    }\n",
       "</style>\n",
       "<table border=\"1\" class=\"dataframe\">\n",
       "  <thead>\n",
       "    <tr style=\"text-align: right;\">\n",
       "      <th></th>\n",
       "      <th>CALENDAR_DATE</th>\n",
       "      <th>PRICE</th>\n",
       "      <th>QUANTITY</th>\n",
       "      <th>SELL_ID</th>\n",
       "      <th>SELL_CATEGORY</th>\n",
       "    </tr>\n",
       "  </thead>\n",
       "  <tbody>\n",
       "    <tr>\n",
       "      <th>0</th>\n",
       "      <td>01/01/12</td>\n",
       "      <td>15.50</td>\n",
       "      <td>46</td>\n",
       "      <td>1070</td>\n",
       "      <td>0</td>\n",
       "    </tr>\n",
       "    <tr>\n",
       "      <th>1</th>\n",
       "      <td>01/01/12</td>\n",
       "      <td>12.73</td>\n",
       "      <td>22</td>\n",
       "      <td>2051</td>\n",
       "      <td>2</td>\n",
       "    </tr>\n",
       "    <tr>\n",
       "      <th>2</th>\n",
       "      <td>01/01/12</td>\n",
       "      <td>12.75</td>\n",
       "      <td>18</td>\n",
       "      <td>2052</td>\n",
       "      <td>2</td>\n",
       "    </tr>\n",
       "    <tr>\n",
       "      <th>3</th>\n",
       "      <td>01/01/12</td>\n",
       "      <td>12.60</td>\n",
       "      <td>30</td>\n",
       "      <td>2053</td>\n",
       "      <td>2</td>\n",
       "    </tr>\n",
       "    <tr>\n",
       "      <th>4</th>\n",
       "      <td>01/02/12</td>\n",
       "      <td>15.50</td>\n",
       "      <td>70</td>\n",
       "      <td>1070</td>\n",
       "      <td>0</td>\n",
       "    </tr>\n",
       "  </tbody>\n",
       "</table>\n",
       "</div>"
      ],
      "text/plain": [
       "  CALENDAR_DATE  PRICE  QUANTITY  SELL_ID  SELL_CATEGORY\n",
       "0      01/01/12  15.50        46     1070              0\n",
       "1      01/01/12  12.73        22     2051              2\n",
       "2      01/01/12  12.75        18     2052              2\n",
       "3      01/01/12  12.60        30     2053              2\n",
       "4      01/02/12  15.50        70     1070              0"
      ]
     },
     "execution_count": 8,
     "metadata": {},
     "output_type": "execute_result"
    }
   ],
   "source": [
    "transactions.head()"
   ]
  },
  {
   "cell_type": "code",
   "execution_count": 46,
   "id": "5bed3862-ee8a-45b0-b29e-c366444b7fd8",
   "metadata": {},
   "outputs": [
    {
     "name": "stdout",
     "output_type": "stream",
     "text": [
      "The shape of the data (5404, 5)\n",
      "We have data from 01/01/12 to 9/30/14\n",
      "The max price is 16.5\n",
      "The min price is 10.12\n"
     ]
    }
   ],
   "source": [
    "print(f\"The shape of the data {transactions.shape}\")\n",
    "print(f\"We have data from {transactions['CALENDAR_DATE'].min()} to {transactions['CALENDAR_DATE'].max()}\")\n",
    "print(f\"The max price is {transactions['PRICE'].max()}\")\n",
    "print(f\"The min price is {transactions['PRICE'].min()}\")"
   ]
  },
  {
   "cell_type": "code",
   "execution_count": 54,
   "id": "be0868c2-ab2f-4021-bed6-554a2cc78d07",
   "metadata": {},
   "outputs": [
    {
     "data": {
      "image/png": "[encoded data removed]",
      "text/plain": [
       "<Figure size 800x500 with 1 Axes>"
      ]
     },
     "metadata": {},
     "output_type": "display_data"
    }
   ],
   "source": [
    "\"\"\" DISTRIBUTION OF PRICE\"\"\"\n",
    "\n",
    "# Set the aesthetic style of the plots\n",
    "sns.set(style=\"whitegrid\")\n",
    "# Create a figure and a set of subplots\n",
    "plt.figure(figsize=(8, 5))\n",
    "# Plot the distribution of the numerical column\n",
    "sns.histplot(transactions['PRICE'], kde=True)\n",
    "# Add titles and labels\n",
    "plt.title('Distribution of Price')\n",
    "plt.xlabel('Price')\n",
    "plt.ylabel('Frequency')\n",
    "# Show the plot\n",
    "plt.show()"
   ]
  },
  {
   "cell_type": "code",
   "execution_count": 55,
   "id": "a67ce4df-dd1e-41c4-b51e-3e547d8c3ad0",
   "metadata": {},
   "outputs": [
    {
     "data": {
      "image/png": "[encoded data removed]",
      "text/plain": [
       "<Figure size 800x500 with 1 Axes>"
      ]
     },
     "metadata": {},
     "output_type": "display_data"
    }
   ],
   "source": [
    "\"\"\" DISTRIBUTION OF QTY\"\"\"\n",
    "\n",
    "# Set the aesthetic style of the plots\n",
    "sns.set(style=\"whitegrid\")\n",
    "# Create a figure and a set of subplots\n",
    "plt.figure(figsize=(8, 5))\n",
    "# Plot the distribution of the numerical column\n",
    "sns.histplot(transactions['QUANTITY'], kde=True)\n",
    "# Add titles and labels\n",
    "plt.title('Distribution of Quantity')\n",
    "plt.xlabel('Quantity')\n",
    "plt.ylabel('Frequency')\n",
    "# Show the plot\n",
    "plt.show()"
   ]
  },
  {
   "cell_type": "code",
   "execution_count": 58,
   "id": "673fbe01-ef06-4f81-8ed8-111b6d679ea2",
   "metadata": {},
   "outputs": [
    {
     "data": {
      "image/png": "[encoded data removed]",
      "text/plain": [
       "<Figure size 700x500 with 1 Axes>"
      ]
     },
     "metadata": {},
     "output_type": "display_data"
    }
   ],
   "source": [
    "\"\"\" CORRELATION BETWEEN PRICE AND QTY\"\"\"\n",
    "\n",
    "# Set the aesthetic style of the plots\n",
    "sns.set(style=\"whitegrid\")\n",
    "# Create a scatter plot\n",
    "plt.figure(figsize=(7, 5))\n",
    "sns.scatterplot(x='PRICE', y='QUANTITY', data=transactions)\n",
    "# Add titles and labels\n",
    "plt.title('Scatter Plot of PRICE vs QUANTITY')\n",
    "plt.xlabel('PRICE')\n",
    "plt.ylabel('QUANTITY')\n",
    "# Show the plot\n",
    "plt.show()\n",
    "\n"
   ]
  },
  {
   "cell_type": "markdown",
   "id": "4ec8b244-25af-4c27-a82e-c7843d7318e8",
   "metadata": {},
   "source": [
    "#### Dates Data"
   ]
  },
  {
   "cell_type": "code",
   "execution_count": 9,
   "id": "0937874c-98ed-4b7b-9390-df1bd4c8ce41",
   "metadata": {},
   "outputs": [
    {
     "data": {
      "text/html": [
       "<div>\n",
       "<style scoped>\n",
       "    .dataframe tbody tr th:only-of-type {\n",
       "        vertical-align: middle;\n",
       "    }\n",
       "\n",
       "    .dataframe tbody tr th {\n",
       "        vertical-align: top;\n",
       "    }\n",
       "\n",
       "    .dataframe thead th {\n",
       "        text-align: right;\n",
       "    }\n",
       "</style>\n",
       "<table border=\"1\" class=\"dataframe\">\n",
       "  <thead>\n",
       "    <tr style=\"text-align: right;\">\n",
       "      <th></th>\n",
       "      <th>CALENDAR_DATE</th>\n",
       "      <th>YEAR</th>\n",
       "      <th>HOLIDAY</th>\n",
       "      <th>IS_WEEKEND</th>\n",
       "      <th>IS_SCHOOLBREAK</th>\n",
       "      <th>AVERAGE_TEMPERATURE</th>\n",
       "      <th>IS_OUTDOOR</th>\n",
       "    </tr>\n",
       "  </thead>\n",
       "  <tbody>\n",
       "    <tr>\n",
       "      <th>0</th>\n",
       "      <td>1/1/12</td>\n",
       "      <td>2012</td>\n",
       "      <td>New Year</td>\n",
       "      <td>1</td>\n",
       "      <td>0</td>\n",
       "      <td>24.8</td>\n",
       "      <td>0</td>\n",
       "    </tr>\n",
       "    <tr>\n",
       "      <th>1</th>\n",
       "      <td>1/2/12</td>\n",
       "      <td>2012</td>\n",
       "      <td>New Year</td>\n",
       "      <td>0</td>\n",
       "      <td>0</td>\n",
       "      <td>24.8</td>\n",
       "      <td>0</td>\n",
       "    </tr>\n",
       "    <tr>\n",
       "      <th>2</th>\n",
       "      <td>1/3/12</td>\n",
       "      <td>2012</td>\n",
       "      <td>New Year</td>\n",
       "      <td>0</td>\n",
       "      <td>0</td>\n",
       "      <td>32.0</td>\n",
       "      <td>1</td>\n",
       "    </tr>\n",
       "    <tr>\n",
       "      <th>3</th>\n",
       "      <td>1/4/12</td>\n",
       "      <td>2012</td>\n",
       "      <td>NaN</td>\n",
       "      <td>0</td>\n",
       "      <td>0</td>\n",
       "      <td>32.0</td>\n",
       "      <td>1</td>\n",
       "    </tr>\n",
       "    <tr>\n",
       "      <th>4</th>\n",
       "      <td>1/5/12</td>\n",
       "      <td>2012</td>\n",
       "      <td>NaN</td>\n",
       "      <td>0</td>\n",
       "      <td>0</td>\n",
       "      <td>24.8</td>\n",
       "      <td>0</td>\n",
       "    </tr>\n",
       "  </tbody>\n",
       "</table>\n",
       "</div>"
      ],
      "text/plain": [
       "  CALENDAR_DATE  YEAR   HOLIDAY  IS_WEEKEND  IS_SCHOOLBREAK  \\\n",
       "0        1/1/12  2012  New Year           1               0   \n",
       "1        1/2/12  2012  New Year           0               0   \n",
       "2        1/3/12  2012  New Year           0               0   \n",
       "3        1/4/12  2012       NaN           0               0   \n",
       "4        1/5/12  2012       NaN           0               0   \n",
       "\n",
       "   AVERAGE_TEMPERATURE  IS_OUTDOOR  \n",
       "0                 24.8           0  \n",
       "1                 24.8           0  \n",
       "2                 32.0           1  \n",
       "3                 32.0           1  \n",
       "4                 24.8           0  "
      ]
     },
     "execution_count": 9,
     "metadata": {},
     "output_type": "execute_result"
    }
   ],
   "source": [
    "dates.head()"
   ]
  },
  {
   "cell_type": "code",
   "execution_count": 60,
   "id": "52cc1327-4d87-4eb8-9e49-a4977c29b2fe",
   "metadata": {},
   "outputs": [
    {
     "data": {
      "text/plain": [
       "CALENDAR_DATE             0\n",
       "YEAR                      0\n",
       "HOLIDAY                1244\n",
       "IS_WEEKEND                0\n",
       "IS_SCHOOLBREAK            0\n",
       "AVERAGE_TEMPERATURE       0\n",
       "IS_OUTDOOR                0\n",
       "dtype: int64"
      ]
     },
     "execution_count": 60,
     "metadata": {},
     "output_type": "execute_result"
    }
   ],
   "source": [
    "# checking for any null values\n",
    "dates.isna().sum()"
   ]
  },
  {
   "cell_type": "code",
   "execution_count": 67,
   "id": "2fa51d73-4406-4573-ae78-9a9d7f5d8baf",
   "metadata": {},
   "outputs": [
    {
     "name": "stdout",
     "output_type": "stream",
     "text": [
      "The shape of the data is (1349, 7)\n",
      "The Holidays are ['New Year' 'No Holiday' 'Luner New Year' 'Qing Ming Festival' 'Labor Day'\n",
      " 'Dragon Boat Festivel' 'Mid-Autumn Day' 'National Day' 'WWII Celebration']\n",
      "We have the data from 1/1/12 to 9/9/15 \n"
     ]
    }
   ],
   "source": [
    "# filling NaN with No holiday\n",
    "dates['HOLIDAY'] = dates['HOLIDAY'].fillna(\"No Holiday\")\n",
    "print(f\"The shape of the data is {dates.shape}\")\n",
    "print(f\"The Holidays are {dates['HOLIDAY'].unique()}\")\n",
    "print(f\"We have the data from {dates['CALENDAR_DATE'].min()} to {dates['CALENDAR_DATE'].max()} \")"
   ]
  },
  {
   "cell_type": "markdown",
   "id": "1e75a2e1-3a2e-4ee1-bb76-c685c8c6677d",
   "metadata": {},
   "source": [
    "#### Data Transformation"
   ]
  },
  {
   "cell_type": "code",
   "execution_count": 87,
   "id": "485f577d-f134-4531-b748-37459a386e3d",
   "metadata": {},
   "outputs": [],
   "source": [
    "# Create dummy variables\n",
    "dummies = pd.get_dummies(products['ITEM_NAME'],dtype=int)\n",
    "\n",
    "# combining the dummies and sell id\n",
    "sell_ids = pd.concat([products['SELL_ID'],dummies],axis=1)\n",
    "sella_ids.head()"
   ]
  },
  {
   "cell_type": "code",
   "execution_count": 88,
   "id": "1b1f05c3-b57e-437b-8602-e5ba13af3f39",
   "metadata": {},
   "outputs": [
    {
     "data": {
      "text/html": [
       "<div>\n",
       "<style scoped>\n",
       "    .dataframe tbody tr th:only-of-type {\n",
       "        vertical-align: middle;\n",
       "    }\n",
       "\n",
       "    .dataframe tbody tr th {\n",
       "        vertical-align: top;\n",
       "    }\n",
       "\n",
       "    .dataframe thead th {\n",
       "        text-align: right;\n",
       "    }\n",
       "</style>\n",
       "<table border=\"1\" class=\"dataframe\">\n",
       "  <thead>\n",
       "    <tr style=\"text-align: right;\">\n",
       "      <th></th>\n",
       "      <th>SELL_ID</th>\n",
       "      <th>BURGER</th>\n",
       "      <th>COFFEE</th>\n",
       "      <th>COKE</th>\n",
       "      <th>LEMONADE</th>\n",
       "    </tr>\n",
       "  </thead>\n",
       "  <tbody>\n",
       "    <tr>\n",
       "      <th>0</th>\n",
       "      <td>1070</td>\n",
       "      <td>1</td>\n",
       "      <td>0</td>\n",
       "      <td>0</td>\n",
       "      <td>0</td>\n",
       "    </tr>\n",
       "    <tr>\n",
       "      <th>1</th>\n",
       "      <td>3055</td>\n",
       "      <td>0</td>\n",
       "      <td>1</td>\n",
       "      <td>0</td>\n",
       "      <td>0</td>\n",
       "    </tr>\n",
       "    <tr>\n",
       "      <th>2</th>\n",
       "      <td>3067</td>\n",
       "      <td>0</td>\n",
       "      <td>0</td>\n",
       "      <td>1</td>\n",
       "      <td>0</td>\n",
       "    </tr>\n",
       "    <tr>\n",
       "      <th>3</th>\n",
       "      <td>3028</td>\n",
       "      <td>0</td>\n",
       "      <td>0</td>\n",
       "      <td>0</td>\n",
       "      <td>1</td>\n",
       "    </tr>\n",
       "    <tr>\n",
       "      <th>4</th>\n",
       "      <td>2051</td>\n",
       "      <td>1</td>\n",
       "      <td>0</td>\n",
       "      <td>0</td>\n",
       "      <td>0</td>\n",
       "    </tr>\n",
       "    <tr>\n",
       "      <th>5</th>\n",
       "      <td>2051</td>\n",
       "      <td>0</td>\n",
       "      <td>0</td>\n",
       "      <td>1</td>\n",
       "      <td>0</td>\n",
       "    </tr>\n",
       "    <tr>\n",
       "      <th>6</th>\n",
       "      <td>2052</td>\n",
       "      <td>1</td>\n",
       "      <td>0</td>\n",
       "      <td>0</td>\n",
       "      <td>0</td>\n",
       "    </tr>\n",
       "    <tr>\n",
       "      <th>7</th>\n",
       "      <td>2052</td>\n",
       "      <td>0</td>\n",
       "      <td>0</td>\n",
       "      <td>0</td>\n",
       "      <td>1</td>\n",
       "    </tr>\n",
       "    <tr>\n",
       "      <th>8</th>\n",
       "      <td>2053</td>\n",
       "      <td>1</td>\n",
       "      <td>0</td>\n",
       "      <td>0</td>\n",
       "      <td>0</td>\n",
       "    </tr>\n",
       "    <tr>\n",
       "      <th>9</th>\n",
       "      <td>2053</td>\n",
       "      <td>0</td>\n",
       "      <td>0</td>\n",
       "      <td>1</td>\n",
       "      <td>0</td>\n",
       "    </tr>\n",
       "    <tr>\n",
       "      <th>10</th>\n",
       "      <td>2053</td>\n",
       "      <td>0</td>\n",
       "      <td>1</td>\n",
       "      <td>0</td>\n",
       "      <td>0</td>\n",
       "    </tr>\n",
       "  </tbody>\n",
       "</table>\n",
       "</div>"
      ],
      "text/plain": [
       "    SELL_ID  BURGER  COFFEE  COKE  LEMONADE\n",
       "0      1070       1       0     0         0\n",
       "1      3055       0       1     0         0\n",
       "2      3067       0       0     1         0\n",
       "3      3028       0       0     0         1\n",
       "4      2051       1       0     0         0\n",
       "5      2051       0       0     1         0\n",
       "6      2052       1       0     0         0\n",
       "7      2052       0       0     0         1\n",
       "8      2053       1       0     0         0\n",
       "9      2053       0       0     1         0\n",
       "10     2053       0       1     0         0"
      ]
     },
     "execution_count": 88,
     "metadata": {},
     "output_type": "execute_result"
    }
   ],
   "source": [
    "sell_ids"
   ]
  },
  {
   "cell_type": "code",
   "execution_count": 89,
   "id": "dc114752-f709-4991-be22-f6676ae96464",
   "metadata": {},
   "outputs": [
    {
     "data": {
      "text/html": [
       "<div>\n",
       "<style scoped>\n",
       "    .dataframe tbody tr th:only-of-type {\n",
       "        vertical-align: middle;\n",
       "    }\n",
       "\n",
       "    .dataframe tbody tr th {\n",
       "        vertical-align: top;\n",
       "    }\n",
       "\n",
       "    .dataframe thead th {\n",
       "        text-align: right;\n",
       "    }\n",
       "</style>\n",
       "<table border=\"1\" class=\"dataframe\">\n",
       "  <thead>\n",
       "    <tr style=\"text-align: right;\">\n",
       "      <th></th>\n",
       "      <th>SELL_ID</th>\n",
       "      <th>BURGER</th>\n",
       "      <th>COFFEE</th>\n",
       "      <th>COKE</th>\n",
       "      <th>LEMONADE</th>\n",
       "    </tr>\n",
       "  </thead>\n",
       "  <tbody>\n",
       "    <tr>\n",
       "      <th>0</th>\n",
       "      <td>1070</td>\n",
       "      <td>1</td>\n",
       "      <td>0</td>\n",
       "      <td>0</td>\n",
       "      <td>0</td>\n",
       "    </tr>\n",
       "    <tr>\n",
       "      <th>1</th>\n",
       "      <td>2051</td>\n",
       "      <td>1</td>\n",
       "      <td>0</td>\n",
       "      <td>1</td>\n",
       "      <td>0</td>\n",
       "    </tr>\n",
       "    <tr>\n",
       "      <th>2</th>\n",
       "      <td>2052</td>\n",
       "      <td>1</td>\n",
       "      <td>0</td>\n",
       "      <td>0</td>\n",
       "      <td>1</td>\n",
       "    </tr>\n",
       "    <tr>\n",
       "      <th>3</th>\n",
       "      <td>2053</td>\n",
       "      <td>1</td>\n",
       "      <td>1</td>\n",
       "      <td>1</td>\n",
       "      <td>0</td>\n",
       "    </tr>\n",
       "    <tr>\n",
       "      <th>4</th>\n",
       "      <td>3028</td>\n",
       "      <td>0</td>\n",
       "      <td>0</td>\n",
       "      <td>0</td>\n",
       "      <td>1</td>\n",
       "    </tr>\n",
       "    <tr>\n",
       "      <th>5</th>\n",
       "      <td>3055</td>\n",
       "      <td>0</td>\n",
       "      <td>1</td>\n",
       "      <td>0</td>\n",
       "      <td>0</td>\n",
       "    </tr>\n",
       "    <tr>\n",
       "      <th>6</th>\n",
       "      <td>3067</td>\n",
       "      <td>0</td>\n",
       "      <td>0</td>\n",
       "      <td>1</td>\n",
       "      <td>0</td>\n",
       "    </tr>\n",
       "  </tbody>\n",
       "</table>\n",
       "</div>"
      ],
      "text/plain": [
       "   SELL_ID  BURGER  COFFEE  COKE  LEMONADE\n",
       "0     1070       1       0     0         0\n",
       "1     2051       1       0     1         0\n",
       "2     2052       1       0     0         1\n",
       "3     2053       1       1     1         0\n",
       "4     3028       0       0     0         1\n",
       "5     3055       0       1     0         0\n",
       "6     3067       0       0     1         0"
      ]
     },
     "execution_count": 89,
     "metadata": {},
     "output_type": "execute_result"
    }
   ],
   "source": [
    "# in the above dataframe we have duplicates so lets group them\n",
    "sell_ids = df_dummies.groupby(df_dummies['SELL_ID']).sum().reset_index()\n",
    "sell_ids"
   ]
  },
  {
   "cell_type": "code",
   "execution_count": 100,
   "id": "6e491d84-4a54-4471-aec1-8d4d26b2e2f9",
   "metadata": {},
   "outputs": [
    {
     "data": {
      "text/html": [
       "<div>\n",
       "<style scoped>\n",
       "    .dataframe tbody tr th:only-of-type {\n",
       "        vertical-align: middle;\n",
       "    }\n",
       "\n",
       "    .dataframe tbody tr th {\n",
       "        vertical-align: top;\n",
       "    }\n",
       "\n",
       "    .dataframe thead th {\n",
       "        text-align: right;\n",
       "    }\n",
       "</style>\n",
       "<table border=\"1\" class=\"dataframe\">\n",
       "  <thead>\n",
       "    <tr style=\"text-align: right;\">\n",
       "      <th></th>\n",
       "      <th>SELL_ID</th>\n",
       "      <th>SELL_CATEGORY</th>\n",
       "      <th>ITEM_NAME</th>\n",
       "      <th>CALENDAR_DATE</th>\n",
       "      <th>PRICE</th>\n",
       "      <th>QUANTITY</th>\n",
       "    </tr>\n",
       "  </thead>\n",
       "  <tbody>\n",
       "    <tr>\n",
       "      <th>0</th>\n",
       "      <td>1070</td>\n",
       "      <td>0</td>\n",
       "      <td>BURGER</td>\n",
       "      <td>01/01/12</td>\n",
       "      <td>15.50</td>\n",
       "      <td>46</td>\n",
       "    </tr>\n",
       "    <tr>\n",
       "      <th>1</th>\n",
       "      <td>1070</td>\n",
       "      <td>0</td>\n",
       "      <td>BURGER</td>\n",
       "      <td>01/02/12</td>\n",
       "      <td>15.50</td>\n",
       "      <td>70</td>\n",
       "    </tr>\n",
       "    <tr>\n",
       "      <th>2</th>\n",
       "      <td>1070</td>\n",
       "      <td>0</td>\n",
       "      <td>BURGER</td>\n",
       "      <td>01/03/12</td>\n",
       "      <td>15.50</td>\n",
       "      <td>62</td>\n",
       "    </tr>\n",
       "    <tr>\n",
       "      <th>3</th>\n",
       "      <td>1070</td>\n",
       "      <td>0</td>\n",
       "      <td>BURGER</td>\n",
       "      <td>01/04/12</td>\n",
       "      <td>15.50</td>\n",
       "      <td>88</td>\n",
       "    </tr>\n",
       "    <tr>\n",
       "      <th>4</th>\n",
       "      <td>1070</td>\n",
       "      <td>0</td>\n",
       "      <td>BURGER</td>\n",
       "      <td>01/05/12</td>\n",
       "      <td>15.50</td>\n",
       "      <td>104</td>\n",
       "    </tr>\n",
       "    <tr>\n",
       "      <th>...</th>\n",
       "      <td>...</td>\n",
       "      <td>...</td>\n",
       "      <td>...</td>\n",
       "      <td>...</td>\n",
       "      <td>...</td>\n",
       "      <td>...</td>\n",
       "    </tr>\n",
       "    <tr>\n",
       "      <th>10803</th>\n",
       "      <td>2053</td>\n",
       "      <td>2</td>\n",
       "      <td>COFFEE</td>\n",
       "      <td>09/06/15</td>\n",
       "      <td>11.26</td>\n",
       "      <td>54</td>\n",
       "    </tr>\n",
       "    <tr>\n",
       "      <th>10804</th>\n",
       "      <td>2053</td>\n",
       "      <td>2</td>\n",
       "      <td>COFFEE</td>\n",
       "      <td>09/07/15</td>\n",
       "      <td>11.26</td>\n",
       "      <td>50</td>\n",
       "    </tr>\n",
       "    <tr>\n",
       "      <th>10805</th>\n",
       "      <td>2053</td>\n",
       "      <td>2</td>\n",
       "      <td>COFFEE</td>\n",
       "      <td>09/08/15</td>\n",
       "      <td>11.26</td>\n",
       "      <td>50</td>\n",
       "    </tr>\n",
       "    <tr>\n",
       "      <th>10806</th>\n",
       "      <td>2053</td>\n",
       "      <td>2</td>\n",
       "      <td>COFFEE</td>\n",
       "      <td>09/09/15</td>\n",
       "      <td>11.26</td>\n",
       "      <td>54</td>\n",
       "    </tr>\n",
       "    <tr>\n",
       "      <th>10807</th>\n",
       "      <td>2053</td>\n",
       "      <td>2</td>\n",
       "      <td>COFFEE</td>\n",
       "      <td>09/10/15</td>\n",
       "      <td>11.26</td>\n",
       "      <td>50</td>\n",
       "    </tr>\n",
       "  </tbody>\n",
       "</table>\n",
       "<p>10808 rows × 6 columns</p>\n",
       "</div>"
      ],
      "text/plain": [
       "       SELL_ID  SELL_CATEGORY ITEM_NAME CALENDAR_DATE  PRICE  QUANTITY\n",
       "0         1070              0    BURGER      01/01/12  15.50        46\n",
       "1         1070              0    BURGER      01/02/12  15.50        70\n",
       "2         1070              0    BURGER      01/03/12  15.50        62\n",
       "3         1070              0    BURGER      01/04/12  15.50        88\n",
       "4         1070              0    BURGER      01/05/12  15.50       104\n",
       "...        ...            ...       ...           ...    ...       ...\n",
       "10803     2053              2    COFFEE      09/06/15  11.26        54\n",
       "10804     2053              2    COFFEE      09/07/15  11.26        50\n",
       "10805     2053              2    COFFEE      09/08/15  11.26        50\n",
       "10806     2053              2    COFFEE      09/09/15  11.26        54\n",
       "10807     2053              2    COFFEE      09/10/15  11.26        50\n",
       "\n",
       "[10808 rows x 6 columns]"
      ]
     },
     "execution_count": 100,
     "metadata": {},
     "output_type": "execute_result"
    }
   ],
   "source": [
    "# merging the product data with transactions data\n",
    "df_merged = pd.merge(product.drop(columns=[\"ITEM_ID\"]),transactions.drop(columns=[\"SELL_CATEGORY\"]),on=\"SELL_ID\")\n",
    "df_merged"
   ]
  },
  {
   "cell_type": "code",
   "execution_count": 111,
   "id": "d649400e-3046-442b-beae-63894f62f108",
   "metadata": {},
   "outputs": [
    {
     "data": {
      "text/html": [
       "<div>\n",
       "<style scoped>\n",
       "    .dataframe tbody tr th:only-of-type {\n",
       "        vertical-align: middle;\n",
       "    }\n",
       "\n",
       "    .dataframe tbody tr th {\n",
       "        vertical-align: top;\n",
       "    }\n",
       "\n",
       "    .dataframe thead th {\n",
       "        text-align: right;\n",
       "    }\n",
       "</style>\n",
       "<table border=\"1\" class=\"dataframe\">\n",
       "  <thead>\n",
       "    <tr style=\"text-align: right;\">\n",
       "      <th></th>\n",
       "      <th>SELL_ID</th>\n",
       "      <th>SELL_CATEGORY</th>\n",
       "      <th>ITEM_NAME</th>\n",
       "      <th>CALENDAR_DATE</th>\n",
       "      <th>PRICE</th>\n",
       "      <th>QUANTITY</th>\n",
       "    </tr>\n",
       "  </thead>\n",
       "  <tbody>\n",
       "    <tr>\n",
       "      <th>0</th>\n",
       "      <td>1070</td>\n",
       "      <td>0</td>\n",
       "      <td>BURGER</td>\n",
       "      <td>01/01/12</td>\n",
       "      <td>15.50</td>\n",
       "      <td>46</td>\n",
       "    </tr>\n",
       "    <tr>\n",
       "      <th>1</th>\n",
       "      <td>1070</td>\n",
       "      <td>0</td>\n",
       "      <td>BURGER</td>\n",
       "      <td>01/01/13</td>\n",
       "      <td>15.50</td>\n",
       "      <td>60</td>\n",
       "    </tr>\n",
       "    <tr>\n",
       "      <th>2</th>\n",
       "      <td>1070</td>\n",
       "      <td>0</td>\n",
       "      <td>BURGER</td>\n",
       "      <td>01/01/14</td>\n",
       "      <td>15.50</td>\n",
       "      <td>72</td>\n",
       "    </tr>\n",
       "    <tr>\n",
       "      <th>3</th>\n",
       "      <td>1070</td>\n",
       "      <td>0</td>\n",
       "      <td>BURGER</td>\n",
       "      <td>01/01/15</td>\n",
       "      <td>14.00</td>\n",
       "      <td>66</td>\n",
       "    </tr>\n",
       "    <tr>\n",
       "      <th>4</th>\n",
       "      <td>1070</td>\n",
       "      <td>0</td>\n",
       "      <td>BURGER</td>\n",
       "      <td>01/02/12</td>\n",
       "      <td>15.50</td>\n",
       "      <td>70</td>\n",
       "    </tr>\n",
       "    <tr>\n",
       "      <th>...</th>\n",
       "      <td>...</td>\n",
       "      <td>...</td>\n",
       "      <td>...</td>\n",
       "      <td>...</td>\n",
       "      <td>...</td>\n",
       "      <td>...</td>\n",
       "    </tr>\n",
       "    <tr>\n",
       "      <th>10787</th>\n",
       "      <td>2053</td>\n",
       "      <td>2</td>\n",
       "      <td>COKE</td>\n",
       "      <td>9/29/13</td>\n",
       "      <td>10.45</td>\n",
       "      <td>40</td>\n",
       "    </tr>\n",
       "    <tr>\n",
       "      <th>10788</th>\n",
       "      <td>2053</td>\n",
       "      <td>2</td>\n",
       "      <td>COKE</td>\n",
       "      <td>9/29/14</td>\n",
       "      <td>12.77</td>\n",
       "      <td>46</td>\n",
       "    </tr>\n",
       "    <tr>\n",
       "      <th>10789</th>\n",
       "      <td>2053</td>\n",
       "      <td>2</td>\n",
       "      <td>COKE</td>\n",
       "      <td>9/30/12</td>\n",
       "      <td>12.42</td>\n",
       "      <td>38</td>\n",
       "    </tr>\n",
       "    <tr>\n",
       "      <th>10790</th>\n",
       "      <td>2053</td>\n",
       "      <td>2</td>\n",
       "      <td>COKE</td>\n",
       "      <td>9/30/13</td>\n",
       "      <td>10.45</td>\n",
       "      <td>38</td>\n",
       "    </tr>\n",
       "    <tr>\n",
       "      <th>10791</th>\n",
       "      <td>2053</td>\n",
       "      <td>2</td>\n",
       "      <td>COKE</td>\n",
       "      <td>9/30/14</td>\n",
       "      <td>12.77</td>\n",
       "      <td>50</td>\n",
       "    </tr>\n",
       "  </tbody>\n",
       "</table>\n",
       "<p>10792 rows × 6 columns</p>\n",
       "</div>"
      ],
      "text/plain": [
       "       SELL_ID  SELL_CATEGORY ITEM_NAME CALENDAR_DATE  PRICE  QUANTITY\n",
       "0         1070              0    BURGER      01/01/12  15.50        46\n",
       "1         1070              0    BURGER      01/01/13  15.50        60\n",
       "2         1070              0    BURGER      01/01/14  15.50        72\n",
       "3         1070              0    BURGER      01/01/15  14.00        66\n",
       "4         1070              0    BURGER      01/02/12  15.50        70\n",
       "...        ...            ...       ...           ...    ...       ...\n",
       "10787     2053              2      COKE       9/29/13  10.45        40\n",
       "10788     2053              2      COKE       9/29/14  12.77        46\n",
       "10789     2053              2      COKE       9/30/12  12.42        38\n",
       "10790     2053              2      COKE       9/30/13  10.45        38\n",
       "10791     2053              2      COKE       9/30/14  12.77        50\n",
       "\n",
       "[10792 rows x 6 columns]"
      ]
     },
     "execution_count": 111,
     "metadata": {},
     "output_type": "execute_result"
    }
   ],
   "source": [
    "# eliminating duplicates by grouping the column\n",
    "df_transaction = df_merged.groupby([\"SELL_ID\",\"SELL_CATEGORY\",\"ITEM_NAME\",\"CALENDAR_DATE\",\"PRICE\"])[\"QUANTITY\"].sum().reset_index()\n",
    "df_transaction"
   ]
  },
  {
   "cell_type": "code",
   "execution_count": 107,
   "id": "1fa7e6df-9361-49cf-9465-37932741fa23",
   "metadata": {},
   "outputs": [
    {
     "name": "stdout",
     "output_type": "stream",
     "text": [
      "The shape of data before aggregating (10808, 6)\n",
      "The shape of data after aggregating (10792, 6)\n"
     ]
    }
   ],
   "source": [
    "print(f\"The shape of data before aggregating {df_merged.shape}\")\n",
    "print(f\"The shape of data after aggregating {df_transaction.shape}\")"
   ]
  },
  {
   "cell_type": "code",
   "execution_count": 121,
   "id": "1110103e-9fba-4de7-a7c5-3a89b1a935d4",
   "metadata": {},
   "outputs": [],
   "source": [
    "# merging the df_transaction and dates dataframe\n",
    "df = pd.merge(df_transaction,dates,on=\"CALENDAR_DATE\")\n",
    "df.to_csv(\"data.csv\",index=False)"
   ]
  },
  {
   "cell_type": "markdown",
   "id": "4caf27a5-533b-40a0-8c82-73cc3753984f",
   "metadata": {},
   "source": [
    "We know that on holiday,weekend and school breaks the price of the food items change, so we have to remove this effect to determine the typical price of the product on the usual day\n"
   ]
  },
  {
   "cell_type": "code",
   "execution_count": 119,
   "id": "7fe3f117-e570-448f-9c36-dae03603a216",
   "metadata": {},
   "outputs": [],
   "source": [
    "# removing transactions made on Holidays, Week-ends, School breaks\n",
    "df_filtered = df[(df['HOLIDAY'] == \"No Holiday\") & (df['IS_SCHOOLBREAK'] == 0) & (df['IS_WEEKEND'] == 0)]"
   ]
  },
  {
   "cell_type": "markdown",
   "id": "22e847de-c2fa-4645-bcc4-f307568f6486",
   "metadata": {},
   "source": [
    "### EDA"
   ]
  },
  {
   "cell_type": "code",
   "execution_count": null,
   "id": "6550b2ac-9c72-4c21-84e8-4027e5af8ab4",
   "metadata": {},
   "outputs": [],
   "source": []
  }
 ],
 "metadata": {
  "kernelspec": {
   "display_name": "Python 3 (ipykernel)",
   "language": "python",
   "name": "python3"
  },
  "language_info": {
   "codemirror_mode": {
    "name": "ipython",
    "version": 3
   },
   "file_extension": ".py",
   "mimetype": "text/x-python",
   "name": "python",
   "nbconvert_exporter": "python",
   "pygments_lexer": "ipython3",
   "version": "3.12.3"
  }
 },
 "nbformat": 4,
 "nbformat_minor": 5
}
